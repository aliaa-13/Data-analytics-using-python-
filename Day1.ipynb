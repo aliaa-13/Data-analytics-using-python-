{
  "nbformat": 4,
  "nbformat_minor": 0,
  "metadata": {
    "colab": {
      "provenance": [],
      "authorship_tag": "ABX9TyOioQje7/S7GSFegHM29QAc",
      "include_colab_link": true
    },
    "kernelspec": {
      "name": "python3",
      "display_name": "Python 3"
    },
    "language_info": {
      "name": "python"
    }
  },
  "cells": [
    {
      "cell_type": "markdown",
      "metadata": {
        "id": "view-in-github",
        "colab_type": "text"
      },
      "source": [
        "<a href=\"https://colab.research.google.com/github/aliaa-13/Data-analytics-using-python-/blob/main/Day1.ipynb\" target=\"_parent\"><img src=\"https://colab.research.google.com/assets/colab-badge.svg\" alt=\"Open In Colab\"/></a>"
      ]
    },
    {
      "cell_type": "code",
      "execution_count": null,
      "metadata": {
        "colab": {
          "base_uri": "https://localhost:8080/"
        },
        "id": "WjErlL7OvB-J",
        "outputId": "1b2a6445-5f84-4126-ee1a-cfc23812333d"
      },
      "outputs": [
        {
          "output_type": "stream",
          "name": "stdout",
          "text": [
            "Enter marks separated by space: 89 98 87 58 65 87 68 67 48 25 98 78 79 97\n",
            "Total Students: 14\n",
            "Highest: 98\n",
            "Lowest: 25\n",
            "Average: 74.57142857142857\n",
            "Passed: 13 Failed: 1\n"
          ]
        }
      ],
      "source": [
        "marks = [int(x) for x in input(\"Enter marks separated by space: \").split()]\n",
        "\n",
        "print(\"Total Students:\", len(marks))\n",
        "print(\"Highest:\", max(marks))\n",
        "print(\"Lowest:\", min(marks))\n",
        "print(\"Average:\", sum(marks)/len(marks))\n",
        "\n",
        "pass_marks = 40\n",
        "passed = [m for m in marks if m >= pass_marks]\n",
        "print(\"Passed:\", len(passed), \"Failed:\", len(marks) - len(passed))\n"
      ]
    }
  ]
}