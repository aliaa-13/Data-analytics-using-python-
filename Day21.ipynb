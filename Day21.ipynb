{
  "nbformat": 4,
  "nbformat_minor": 0,
  "metadata": {
    "colab": {
      "provenance": [],
      "authorship_tag": "ABX9TyOQz3rr7CAQ01pFW7al9325",
      "include_colab_link": true
    },
    "kernelspec": {
      "name": "python3",
      "display_name": "Python 3"
    },
    "language_info": {
      "name": "python"
    }
  },
  "cells": [
    {
      "cell_type": "markdown",
      "metadata": {
        "id": "view-in-github",
        "colab_type": "text"
      },
      "source": [
        "<a href=\"https://colab.research.google.com/github/aliaa-13/Data-analytics-using-python-/blob/main/Day21.ipynb\" target=\"_parent\"><img src=\"https://colab.research.google.com/assets/colab-badge.svg\" alt=\"Open In Colab\"/></a>"
      ]
    },
    {
      "cell_type": "code",
      "execution_count": 4,
      "metadata": {
        "colab": {
          "base_uri": "https://localhost:8080/"
        },
        "id": "5Iptakg7Vkjc",
        "outputId": "f1a1ef8c-593e-4267-ea93-c876e7d32c4c"
      },
      "outputs": [
        {
          "output_type": "stream",
          "name": "stdout",
          "text": [
            "Requirement already satisfied: numpy in /usr/local/lib/python3.11/dist-packages (2.0.2)\n",
            "Numpy Version 2.0.2\n",
            "1D array: [1 2 3 4 5]\n",
            "2D array:\n",
            " [[1 2 3]\n",
            " [4 5 6]]\n",
            "Shape of arr1: (5,)\n",
            "Shape of arr2: (2, 3)\n",
            "data type int64\n",
            "Number of dimensions: 2\n",
            "Size of arr1: 5\n",
            "Size of arr2: 6\n",
            "Zeros:\n",
            " [[0. 0. 0.]\n",
            " [0. 0. 0.]]\n",
            "Ones:\n",
            " [[1. 1.]\n",
            " [1. 1.]\n",
            " [1. 1.]]\n",
            "Identity:\n",
            " [[1. 0. 0.]\n",
            " [0. 1. 0.]\n",
            " [0. 0. 1.]]\n",
            "Random:\n",
            " [[3.26764600e-04 6.25943128e-01]\n",
            " [6.53271089e-01 3.96842556e-01]]\n",
            "arr_range: [0 2 4 6 8]\n",
            "arr_linspace: [0.   0.25 0.5  0.75 1.  ]\n"
          ]
        }
      ],
      "source": [
        "!pip install numpy\n",
        "import numpy as np\n",
        "print(\"Numpy Version\",np.__version__)\n",
        "arr1 = np.array([1, 2, 3, 4, 5])\n",
        "print(\"1D array:\", arr1)\n",
        "arr2 = np.array([[1, 2, 3], [4, 5, 6]])\n",
        "print(\"2D array:\\n\", arr2)\n",
        "print(\"Shape of arr1:\", arr1.shape)\n",
        "print(\"Shape of arr2:\", arr2.shape )\n",
        "print(\"data type\",arr2.dtype)\n",
        "print(\"Number of dimensions:\",arr2.ndim)\n",
        "print(\"Size of arr1:\", arr1.size)\n",
        "print(\"Size of arr2:\", arr2.size)\n",
        "zeros=np.zeros((2,3))\n",
        "ones=np.ones((3,2))\n",
        "identity=np.eye(3)\n",
        "random=np.random.rand(2,2)\n",
        "print(\"Zeros:\\n\",zeros)\n",
        "print(\"Ones:\\n\",ones)\n",
        "print(\"Identity:\\n\",identity)\n",
        "print(\"Random:\\n\",random)\n",
        "arr_range=np.arange(0,10,2)\n",
        "print(\"arr_range:\",arr_range)\n",
        "arr_linspace=np.linspace(0,1,5)\n",
        "print(\"arr_linspace:\",arr_linspace)"
      ]
    },
    {
      "cell_type": "code",
      "source": [],
      "metadata": {
        "id": "Qw6b0jjTm9ad"
      },
      "execution_count": 4,
      "outputs": []
    }
  ]
}