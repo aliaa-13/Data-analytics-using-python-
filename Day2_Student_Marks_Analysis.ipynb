{
  "nbformat": 4,
  "nbformat_minor": 0,
  "metadata": {
    "colab": {
      "provenance": [],
      "authorship_tag": "ABX9TyNE/MLBDuva8Uxm/58QJ0qQ",
      "include_colab_link": true
    },
    "kernelspec": {
      "name": "python3",
      "display_name": "Python 3"
    },
    "language_info": {
      "name": "python"
    }
  },
  "cells": [
    {
      "cell_type": "markdown",
      "metadata": {
        "id": "view-in-github",
        "colab_type": "text"
      },
      "source": [
        "<a href=\"https://colab.research.google.com/github/aliaa-13/Data-analytics-using-python-/blob/main/Day2_Student_Marks_Analysis.ipynb\" target=\"_parent\"><img src=\"https://colab.research.google.com/assets/colab-badge.svg\" alt=\"Open In Colab\"/></a>"
      ]
    },
    {
      "cell_type": "code",
      "execution_count": null,
      "metadata": {
        "colab": {
          "base_uri": "https://localhost:8080/"
        },
        "id": "uejv3VLmVnqB",
        "outputId": "4993ae4d-13f5-47a7-8a41-219eb6357acb"
      },
      "outputs": [
        {
          "output_type": "stream",
          "name": "stdout",
          "text": [
            "first five row\n",
            "    Name  Math  Science  English\n",
            "0    Ali    78       82       74\n",
            "1   Sara    88       91       85\n",
            "2   John    65       70       72\n",
            "3  Meena    45       56       48\n",
            "4   Ravi    35       40       38\n",
            "\n",
            " summary stats:\n",
            "<bound method NDFrame.describe of     Name  Math  Science  English\n",
            "0    Ali    78       82       74\n",
            "1   Sara    88       91       85\n",
            "2   John    65       70       72\n",
            "3  Meena    45       56       48\n",
            "4   Ravi    35       40       38>\n",
            "Updated table with total & average\n",
            "    Name  Math  Science  English  total    average\n",
            "0    Ali    78       82       74    234  78.000000\n",
            "1   Sara    88       91       85    264  88.000000\n",
            "2   John    65       70       72    207  69.000000\n",
            "3  Meena    45       56       48    149  49.666667\n",
            "4   Ravi    35       40       38    113  37.666667\n",
            "\n",
            " Students who failed (score < 40 in any subject):\n",
            "   Name  Math  Science  English  total    average\n",
            "4  Ravi    35       40       38    113  37.666667\n"
          ]
        }
      ],
      "source": [
        "import pandas as pd\n",
        "data = {\n",
        "    'Name': ['Ali', 'Sara', 'John', 'Meena', 'Ravi'],\n",
        "    'Math': [78, 88, 65, 45, 35],\n",
        "    'Science': [82, 91, 70, 56, 40],\n",
        "    'English': [74, 85, 72, 48, 38]\n",
        "}\n",
        "\n",
        "df = pd.DataFrame(data)\n",
        "print(\"first five row\")\n",
        "print(df.head())\n",
        "\n",
        "print(\"\\n summary stats:\")\n",
        "print(df.describe)\n",
        "\n",
        "df['total']=df[['Math','Science','English']].sum(axis=1)\n",
        "df['average']=df[['Math','Science','English']].mean(axis=1)\n",
        "\n",
        "print(\"Updated table with total & average\")\n",
        "print(df)\n",
        "\n",
        "failing= df[(df['Math']<40)|(df['Science']<40)|(df['English']<40) ]\n",
        "print(\"\\n Students who failed (score < 40 in any subject):\")\n",
        "print(failing)"
      ]
    }
  ]
}